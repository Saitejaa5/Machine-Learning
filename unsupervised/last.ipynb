{
 "cells": [
  {
   "cell_type": "code",
   "execution_count": 1,
   "id": "e30b80f0-7e3c-40e6-8260-3a475d7fc260",
   "metadata": {},
   "outputs": [],
   "source": [
    "import pandas as pd\n",
    "import numpy as np\n",
    "import matplotlib.pyplot as plt\n",
    "import seaborn as sns\n",
    "from sklearn.preprocessing import StandardScaler\n",
    "from sklearn.cluster import KMeans, DBSCAN, AgglomerativeClustering\n",
    "from sklearn.metrics import silhouette_score"
   ]
  },
  {
   "cell_type": "code",
   "execution_count": 2,
   "id": "22031549-4ff6-4cb2-b36a-cd0b71cedb47",
   "metadata": {},
   "outputs": [],
   "source": [
    "df = pd.read_csv('cleaned_data.csv')\n"
   ]
  },
  {
   "cell_type": "code",
   "execution_count": 3,
   "id": "3074c572-a319-4d27-aa2a-6b3822fdc07e",
   "metadata": {},
   "outputs": [],
   "source": [
    "features = df.drop(columns=['ID'], errors='ignore')"
   ]
  },
  {
   "cell_type": "code",
   "execution_count": 4,
   "id": "d074e8a2-321c-45a0-8650-8f55bc251d33",
   "metadata": {},
   "outputs": [],
   "source": [
    "scaler = StandardScaler()\n",
    "data_scaled = scaler.fit_transform(features)\n"
   ]
  },
  {
   "cell_type": "code",
   "execution_count": 10,
   "id": "6e326a60-71d8-416f-aad5-a4a83fa7fab2",
   "metadata": {},
   "outputs": [],
   "source": [
    "kmeans = KMeans(n_clusters=4, random_state=42, n_init=10)\n",
    "kmeans_labels = kmeans.fit_predict(data_scaled)\n",
    "kmeans_silhouette = silhouette_score(data_scaled, kmeans_labels)"
   ]
  },
  {
   "cell_type": "code",
   "execution_count": 11,
   "id": "ea37f8e2-d855-4ea2-b7db-a6882eb589f2",
   "metadata": {},
   "outputs": [
    {
     "name": "stdout",
     "output_type": "stream",
     "text": [
      "K-Means Silhouette Score: 0.045\n"
     ]
    }
   ],
   "source": [
    "print(f\"K-Means Silhouette Score: {kmeans_silhouette:.3f}\")"
   ]
  },
  {
   "cell_type": "code",
   "execution_count": 16,
   "id": "b289fc77-bcc6-4946-9df7-0e17278c60b8",
   "metadata": {},
   "outputs": [],
   "source": [
    "from sklearn.metrics import silhouette_score\n",
    "silhouette_scores_per_cluster = {}\n",
    "for cluster in range(4):\n",
    "    cluster_mask = kmeans_labels == cluster\n",
    "    cluster_points = data_scaled[cluster_mask]\n",
    "    if len(cluster_points) > 1 and len(set(kmeans_labels[cluster_mask])) > 1:  # Ensure valid silhouette calculation\n",
    "        silhouette_scores_per_cluster[cluster] = silhouette_score(cluster_points, kmeans_labels[cluster_mask])\n",
    "    else:\n",
    "        silhouette_scores_per_cluster[cluster] = None  # Assign None for invalid clusters\n"
   ]
  },
  {
   "cell_type": "code",
   "execution_count": 18,
   "id": "13fc8134-8c0c-4fe2-a82f-bbcbc5d5cd4c",
   "metadata": {},
   "outputs": [
    {
     "name": "stdout",
     "output_type": "stream",
     "text": [
      "K-Means Silhouette Score: 0.045\n",
      "K-Means Silhouette Score per cluster:\n",
      "  Cluster 0: Not enough points to calculate Silhouette Score\n",
      "  Cluster 1: Not enough points to calculate Silhouette Score\n",
      "  Cluster 2: Not enough points to calculate Silhouette Score\n",
      "  Cluster 3: Not enough points to calculate Silhouette Score\n"
     ]
    }
   ],
   "source": [
    "print(f\"K-Means Silhouette Score: {kmeans_silhouette:.3f}\")\n",
    "print(\"K-Means Silhouette Score per cluster:\")\n",
    "for cluster, score in silhouette_scores_per_cluster.items():\n",
    "    if score is not None:\n",
    "        print(f\"  Cluster {cluster}: {score:.3f}\")\n",
    "    else:\n",
    "        print(f\"  Cluster {cluster}: Not enough points to calculate Silhouette Score\")"
   ]
  },
  {
   "cell_type": "markdown",
   "id": "9dc10991-102f-4a1e-83f9-7e625794d7da",
   "metadata": {},
   "source": [
    "from scipy.cluster.hierarchy import linkage, fcluster\n",
    "linkage_matrix = linkage(data_scaled, method='ward')  # Precompute linkage matrix for speed\n",
    "hierarchical_labels = fcluster(linkage_matrix, 4, criterion='maxclust')\n",
    "hierarchical_silhouette = silhouette_score(data_scaled, hierarchical_labels)\n"
   ]
  },
  {
   "cell_type": "code",
   "execution_count": null,
   "id": "b4e9c033-1efc-4de1-ac50-c1f9df3daa72",
   "metadata": {},
   "outputs": [],
   "source": [
    "dbscan = DBSCAN(eps=0.5, min_samples=10, metric='euclidean', n_jobs=-1)  # Faster execution with optimized params\n",
    "dbscan_labels = dbscan.fit_predict(data_scaled)\n",
    "dbscan_silhouette = silhouette_score(data_scaled, dbscan_labels) if len(set(dbscan_labels)) > 1 else None\n"
   ]
  },
  {
   "cell_type": "code",
   "execution_count": null,
   "id": "41f4f1bf-0bec-41c9-91a8-dad2e71b7440",
   "metadata": {},
   "outputs": [],
   "source": [
    "print(f\"Hierarchical Clustering Silhouette Score: {hierarchical_silhouette:.3f}\")\n",
    "print(f\"DBSCAN Silhouette Score: {dbscan_silhouette:.3f}\" if dbscan_silhouette else \"DBSCAN clustering not valid\")\n"
   ]
  },
  {
   "cell_type": "code",
   "execution_count": null,
   "id": "d9758537-b6ca-42e1-8a88-1b0ae0d69141",
   "metadata": {},
   "outputs": [],
   "source": []
  }
 ],
 "metadata": {
  "kernelspec": {
   "display_name": "Python 3 (ipykernel)",
   "language": "python",
   "name": "python3"
  },
  "language_info": {
   "codemirror_mode": {
    "name": "ipython",
    "version": 3
   },
   "file_extension": ".py",
   "mimetype": "text/x-python",
   "name": "python",
   "nbconvert_exporter": "python",
   "pygments_lexer": "ipython3",
   "version": "3.13.1"
  }
 },
 "nbformat": 4,
 "nbformat_minor": 5
}
